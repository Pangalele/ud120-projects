{
 "cells": [
  {
   "cell_type": "code",
   "execution_count": null,
   "metadata": {},
   "outputs": [],
   "source": [
    "import pandas as pd\n",
    "import numpy as np\n",
    "import mysql.connector\n",
    "import dns.resolver\n",
    "mydb= mysql.connector.connect(\n",
    "host=\"localhost\",\n",
    "user=\"root\",\n",
    "password=\"Pangalele@123\",\n",
    "database=\"Donation\"\n",
    ")\n",
    "\n",
    "mycursor=mydb.cursor()\n",
    "mycursor.execute(\"CREATE TABLE BLood Donation (name VARCHAR(45), Address VARCHAR(45))\")\n",
    "#please note this is for creating table on mySQL hence I was working on offline mode I manage use the following code as Alt my table are also on mySQL\n",
    "# also I have Three CSV file that I will be attached on MongoDB and GitHub.\n"
   ]
  },
  {
   "cell_type": "code",
   "execution_count": 18,
   "metadata": {},
   "outputs": [
    {
     "name": "stdout",
     "output_type": "stream",
     "text": [
      "      BloodBankName BloodBankAddress BloodBankDonarsName BloodBankContactNo\n",
      "0       Desmon Tutu        Cape Town               Sipho          078987876\n",
      "1   Eyabonga Center          Gautang               Diric         0789876765\n",
      "2     care for Love       Table View                Vick          087676545\n",
      "3  Spirit of Donars         Pineland                Loon         0816565453\n",
      "4         Love life  Port Elizebirth             Mzodile         0218787656\n"
     ]
    }
   ],
   "source": [
    "import pandas as pd\n",
    "BloodBankName =[\"Desmon Tutu\",\"Eyabonga Center\",\"care for Love\",\"Spirit of Donars\",\"Love life\"]\n",
    "BloodBankAddress =[\"Cape Town\",\"Gautang\",\"Table View\",\"Pineland\",\"Port Elizebirth\",]\n",
    "BloodBankDonarsName =[\"Sipho\",\"Diric\",\"Vick\",\"Loon\",\"Mzodile\"]\n",
    "BloodBankContactNo =[\"078987876\",\"0789876765\",\"087676545\",\"0816565453\",\"0218787656\"]\n",
    "\n",
    "dict= {'BloodBankName':BloodBankName,'BloodBankAddress':BloodBankAddress,'BloodBankDonarsName':BloodBankDonarsName,'BloodBankContactNo':BloodBankContactNo}\n",
    "df=pd.DataFrame(dict)\n",
    "print (df)"
   ]
  },
  {
   "cell_type": "code",
   "execution_count": 19,
   "metadata": {},
   "outputs": [
    {
     "data": {
      "text/html": [
       "<div>\n",
       "<style scoped>\n",
       "    .dataframe tbody tr th:only-of-type {\n",
       "        vertical-align: middle;\n",
       "    }\n",
       "\n",
       "    .dataframe tbody tr th {\n",
       "        vertical-align: top;\n",
       "    }\n",
       "\n",
       "    .dataframe thead th {\n",
       "        text-align: right;\n",
       "    }\n",
       "</style>\n",
       "<table border=\"1\" class=\"dataframe\">\n",
       "  <thead>\n",
       "    <tr style=\"text-align: right;\">\n",
       "      <th></th>\n",
       "      <th>BloodBankName</th>\n",
       "      <th>BloodBankAddress</th>\n",
       "      <th>BloodBankDonarsName</th>\n",
       "      <th>BloodBankContactNo</th>\n",
       "    </tr>\n",
       "  </thead>\n",
       "  <tbody>\n",
       "    <tr>\n",
       "      <td>0</td>\n",
       "      <td>Desmon Tutu</td>\n",
       "      <td>Cape Town</td>\n",
       "      <td>Sipho</td>\n",
       "      <td>078987876</td>\n",
       "    </tr>\n",
       "    <tr>\n",
       "      <td>1</td>\n",
       "      <td>Eyabonga Center</td>\n",
       "      <td>Gautang</td>\n",
       "      <td>Diric</td>\n",
       "      <td>0789876765</td>\n",
       "    </tr>\n",
       "    <tr>\n",
       "      <td>2</td>\n",
       "      <td>care for Love</td>\n",
       "      <td>Table View</td>\n",
       "      <td>Vick</td>\n",
       "      <td>087676545</td>\n",
       "    </tr>\n",
       "    <tr>\n",
       "      <td>3</td>\n",
       "      <td>Spirit of Donars</td>\n",
       "      <td>Pineland</td>\n",
       "      <td>Loon</td>\n",
       "      <td>0816565453</td>\n",
       "    </tr>\n",
       "    <tr>\n",
       "      <td>4</td>\n",
       "      <td>Love life</td>\n",
       "      <td>Port Elizebirth</td>\n",
       "      <td>Mzodile</td>\n",
       "      <td>0218787656</td>\n",
       "    </tr>\n",
       "  </tbody>\n",
       "</table>\n",
       "</div>"
      ],
      "text/plain": [
       "      BloodBankName BloodBankAddress BloodBankDonarsName BloodBankContactNo\n",
       "0       Desmon Tutu        Cape Town               Sipho          078987876\n",
       "1   Eyabonga Center          Gautang               Diric         0789876765\n",
       "2     care for Love       Table View                Vick          087676545\n",
       "3  Spirit of Donars         Pineland                Loon         0816565453\n",
       "4         Love life  Port Elizebirth             Mzodile         0218787656"
      ]
     },
     "execution_count": 19,
     "metadata": {},
     "output_type": "execute_result"
    }
   ],
   "source": [
    "df"
   ]
  },
  {
   "cell_type": "code",
   "execution_count": 22,
   "metadata": {},
   "outputs": [
    {
     "name": "stdout",
     "output_type": "stream",
     "text": [
      "  DonarsName DonarsBloodgroup DonarsMedicalReport     DonasAddress  \\\n",
      "0      Kwezi                A          Execellent      Nyanga East   \n",
      "1       Luvo                A             Pending        Cape Town   \n",
      "2       Hola                B            Excllent      East London   \n",
      "3    Qondile               OO                Good        Gugulethu   \n",
      "4      Mkaya               AB           Excellent  Port Elizebirth   \n",
      "\n",
      "  DonarsContactDetails  \n",
      "0           0789878787  \n",
      "1           0789765454  \n",
      "2           0812323434  \n",
      "3           0213434323  \n",
      "4          06213232324  \n"
     ]
    }
   ],
   "source": [
    "import pandas as pd\n",
    "DonarsName =[\"Kwezi\",\"Luvo\",\"Hola\",\"Qondile\",\"Mkaya\"]\n",
    "DonarsBloodgroup =[\"A\",\"A\",\"B\",\"OO\",\"AB\",]\n",
    "DonarsMedicalReport =[\"Execellent\",\"Pending\",\"Excllent\",\"Good\",\"Excellent\"]\n",
    "DonarsAddress =[\"Nyanga East\",\"Cape Town\",\"East London\",\"Gugulethu\",\"Port Elizebirth\"]\n",
    "DonarsContactDetails=[\"0789878787\",\"0789765454\",\"0812323434\",\"0213434323\",\"06213232324\"]\n",
    "\n",
    "dict= {'DonarsName':DonarsName,'DonarsBloodgroup':DonarsBloodgroup,'DonarsMedicalReport':DonarsMedicalReport,'DonasAddress':DonarsAddress,'DonarsContactDetails':DonarsContactDetails}\n",
    "df=pd.DataFrame(dict)\n",
    "print (df)"
   ]
  },
  {
   "cell_type": "code",
   "execution_count": 23,
   "metadata": {},
   "outputs": [
    {
     "data": {
      "text/html": [
       "<div>\n",
       "<style scoped>\n",
       "    .dataframe tbody tr th:only-of-type {\n",
       "        vertical-align: middle;\n",
       "    }\n",
       "\n",
       "    .dataframe tbody tr th {\n",
       "        vertical-align: top;\n",
       "    }\n",
       "\n",
       "    .dataframe thead th {\n",
       "        text-align: right;\n",
       "    }\n",
       "</style>\n",
       "<table border=\"1\" class=\"dataframe\">\n",
       "  <thead>\n",
       "    <tr style=\"text-align: right;\">\n",
       "      <th></th>\n",
       "      <th>DonarsName</th>\n",
       "      <th>DonarsBloodgroup</th>\n",
       "      <th>DonarsMedicalReport</th>\n",
       "      <th>DonasAddress</th>\n",
       "      <th>DonarsContactDetails</th>\n",
       "    </tr>\n",
       "  </thead>\n",
       "  <tbody>\n",
       "    <tr>\n",
       "      <td>0</td>\n",
       "      <td>Kwezi</td>\n",
       "      <td>A</td>\n",
       "      <td>Execellent</td>\n",
       "      <td>Nyanga East</td>\n",
       "      <td>0789878787</td>\n",
       "    </tr>\n",
       "    <tr>\n",
       "      <td>1</td>\n",
       "      <td>Luvo</td>\n",
       "      <td>A</td>\n",
       "      <td>Pending</td>\n",
       "      <td>Cape Town</td>\n",
       "      <td>0789765454</td>\n",
       "    </tr>\n",
       "    <tr>\n",
       "      <td>2</td>\n",
       "      <td>Hola</td>\n",
       "      <td>B</td>\n",
       "      <td>Excllent</td>\n",
       "      <td>East London</td>\n",
       "      <td>0812323434</td>\n",
       "    </tr>\n",
       "    <tr>\n",
       "      <td>3</td>\n",
       "      <td>Qondile</td>\n",
       "      <td>OO</td>\n",
       "      <td>Good</td>\n",
       "      <td>Gugulethu</td>\n",
       "      <td>0213434323</td>\n",
       "    </tr>\n",
       "    <tr>\n",
       "      <td>4</td>\n",
       "      <td>Mkaya</td>\n",
       "      <td>AB</td>\n",
       "      <td>Excellent</td>\n",
       "      <td>Port Elizebirth</td>\n",
       "      <td>06213232324</td>\n",
       "    </tr>\n",
       "  </tbody>\n",
       "</table>\n",
       "</div>"
      ],
      "text/plain": [
       "  DonarsName DonarsBloodgroup DonarsMedicalReport     DonasAddress  \\\n",
       "0      Kwezi                A          Execellent      Nyanga East   \n",
       "1       Luvo                A             Pending        Cape Town   \n",
       "2       Hola                B            Excllent      East London   \n",
       "3    Qondile               OO                Good        Gugulethu   \n",
       "4      Mkaya               AB           Excellent  Port Elizebirth   \n",
       "\n",
       "  DonarsContactDetails  \n",
       "0           0789878787  \n",
       "1           0789765454  \n",
       "2           0812323434  \n",
       "3           0213434323  \n",
       "4          06213232324  "
      ]
     },
     "execution_count": 23,
     "metadata": {},
     "output_type": "execute_result"
    }
   ],
   "source": [
    "df"
   ]
  },
  {
   "cell_type": "code",
   "execution_count": 25,
   "metadata": {},
   "outputs": [
    {
     "name": "stdout",
     "output_type": "stream",
     "text": [
      "  PatientName   PatientAddress   PatientDiseas PatientContactNumber\n",
      "0        kawa        Cape Town  Kiddney Failer            078987876\n",
      "1  Vuyolwethu          Gautang    Car Excident           0789876765\n",
      "2       Chioi       Table View    liver Cancer            087676545\n",
      "3  Kamvalethu         Pineland            Loon           0816565453\n",
      "4      Lwando  Port Elizebirth              TB           0218787656\n"
     ]
    }
   ],
   "source": [
    "import pandas as pd\n",
    "PatientName =[\"kawa\",\"Vuyolwethu\",\"Chioi\",\"Kamvalethu\",\"Lwando\"]\n",
    "PatientAddress =[\"Cape Town\",\"Gautang\",\"Table View\",\"Pineland\",\"Port Elizebirth\",]\n",
    "PatientDiseas =[\"Kiddney Failer\",\"Car Excident\",\"liver Cancer\",\"Loon\",\"TB\"]\n",
    "PatientContactNumber =[\"078987876\",\"0789876765\",\"087676545\",\"0816565453\",\"0218787656\"]\n",
    "\n",
    "dict= {'PatientName':PatientName,'PatientAddress':PatientAddress,'PatientDiseas':PatientDiseas,'PatientContactNumber':PatientContactNumber}\n",
    "df=pd.DataFrame(dict)\n",
    "print (df)"
   ]
  },
  {
   "cell_type": "code",
   "execution_count": 26,
   "metadata": {},
   "outputs": [
    {
     "data": {
      "text/html": [
       "<div>\n",
       "<style scoped>\n",
       "    .dataframe tbody tr th:only-of-type {\n",
       "        vertical-align: middle;\n",
       "    }\n",
       "\n",
       "    .dataframe tbody tr th {\n",
       "        vertical-align: top;\n",
       "    }\n",
       "\n",
       "    .dataframe thead th {\n",
       "        text-align: right;\n",
       "    }\n",
       "</style>\n",
       "<table border=\"1\" class=\"dataframe\">\n",
       "  <thead>\n",
       "    <tr style=\"text-align: right;\">\n",
       "      <th></th>\n",
       "      <th>PatientName</th>\n",
       "      <th>PatientAddress</th>\n",
       "      <th>PatientDiseas</th>\n",
       "      <th>PatientContactNumber</th>\n",
       "    </tr>\n",
       "  </thead>\n",
       "  <tbody>\n",
       "    <tr>\n",
       "      <td>0</td>\n",
       "      <td>kawa</td>\n",
       "      <td>Cape Town</td>\n",
       "      <td>Kiddney Failer</td>\n",
       "      <td>078987876</td>\n",
       "    </tr>\n",
       "    <tr>\n",
       "      <td>1</td>\n",
       "      <td>Vuyolwethu</td>\n",
       "      <td>Gautang</td>\n",
       "      <td>Car Excident</td>\n",
       "      <td>0789876765</td>\n",
       "    </tr>\n",
       "    <tr>\n",
       "      <td>2</td>\n",
       "      <td>Chioi</td>\n",
       "      <td>Table View</td>\n",
       "      <td>liver Cancer</td>\n",
       "      <td>087676545</td>\n",
       "    </tr>\n",
       "    <tr>\n",
       "      <td>3</td>\n",
       "      <td>Kamvalethu</td>\n",
       "      <td>Pineland</td>\n",
       "      <td>Loon</td>\n",
       "      <td>0816565453</td>\n",
       "    </tr>\n",
       "    <tr>\n",
       "      <td>4</td>\n",
       "      <td>Lwando</td>\n",
       "      <td>Port Elizebirth</td>\n",
       "      <td>TB</td>\n",
       "      <td>0218787656</td>\n",
       "    </tr>\n",
       "  </tbody>\n",
       "</table>\n",
       "</div>"
      ],
      "text/plain": [
       "  PatientName   PatientAddress   PatientDiseas PatientContactNumber\n",
       "0        kawa        Cape Town  Kiddney Failer            078987876\n",
       "1  Vuyolwethu          Gautang    Car Excident           0789876765\n",
       "2       Chioi       Table View    liver Cancer            087676545\n",
       "3  Kamvalethu         Pineland            Loon           0816565453\n",
       "4      Lwando  Port Elizebirth              TB           0218787656"
      ]
     },
     "execution_count": 26,
     "metadata": {},
     "output_type": "execute_result"
    }
   ],
   "source": [
    "df"
   ]
  },
  {
   "cell_type": "code",
   "execution_count": null,
   "metadata": {},
   "outputs": [],
   "source": []
  }
 ],
 "metadata": {
  "kernelspec": {
   "display_name": "Python 3",
   "language": "python",
   "name": "python3"
  },
  "language_info": {
   "codemirror_mode": {
    "name": "ipython",
    "version": 3
   },
   "file_extension": ".py",
   "mimetype": "text/x-python",
   "name": "python",
   "nbconvert_exporter": "python",
   "pygments_lexer": "ipython3",
   "version": "3.7.4"
  }
 },
 "nbformat": 4,
 "nbformat_minor": 2
}
